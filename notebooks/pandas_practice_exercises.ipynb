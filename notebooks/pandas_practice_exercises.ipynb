{
 "cells": [
  {
   "cell_type": "markdown",
   "id": "7b1bf651",
   "metadata": {},
   "source": [
    "Problem 1: Setup & First DataFrame\n",
    "\n",
    "**Tasks:**\n",
    "1. Import pandas with alias pd\n",
    "2. Import numpy with alias np  \n",
    "3. Create DataFrame with student data:\n",
    "   - name: ['Alice', 'Bob', 'Charlie', 'Diana']\n",
    "   - age: [20, 21, 19, 22]\n",
    "   - grade: ['A', 'B', 'A', 'C']\n",
    "   - subject: ['Math', 'Physics', 'Math', 'Chemistry']\n",
    "4. Display the DataFrame\n",
    "5. Show the shape"
   ]
  },
  {
   "cell_type": "code",
   "execution_count": 14,
   "id": "8678df5e",
   "metadata": {},
   "outputs": [
    {
     "name": "stdout",
     "output_type": "stream",
     "text": [
      "<class 'pandas.core.frame.DataFrame'>\n",
      "RangeIndex: 14 entries, 0 to 13\n",
      "Data columns (total 4 columns):\n",
      " #   Column   Non-Null Count  Dtype \n",
      "---  ------   --------------  ----- \n",
      " 0   name     14 non-null     object\n",
      " 1   age      14 non-null     int64 \n",
      " 2   grade    14 non-null     object\n",
      " 3   subject  14 non-null     object\n",
      "dtypes: int64(1), object(3)\n",
      "memory usage: 580.0+ bytes\n"
     ]
    },
    {
     "data": {
      "text/html": [
       "<div>\n",
       "<style scoped>\n",
       "    .dataframe tbody tr th:only-of-type {\n",
       "        vertical-align: middle;\n",
       "    }\n",
       "\n",
       "    .dataframe tbody tr th {\n",
       "        vertical-align: top;\n",
       "    }\n",
       "\n",
       "    .dataframe thead th {\n",
       "        text-align: right;\n",
       "    }\n",
       "</style>\n",
       "<table border=\"1\" class=\"dataframe\">\n",
       "  <thead>\n",
       "    <tr style=\"text-align: right;\">\n",
       "      <th></th>\n",
       "      <th>age</th>\n",
       "    </tr>\n",
       "  </thead>\n",
       "  <tbody>\n",
       "    <tr>\n",
       "      <th>count</th>\n",
       "      <td>14.000000</td>\n",
       "    </tr>\n",
       "    <tr>\n",
       "      <th>mean</th>\n",
       "      <td>20.571429</td>\n",
       "    </tr>\n",
       "    <tr>\n",
       "      <th>std</th>\n",
       "      <td>1.554858</td>\n",
       "    </tr>\n",
       "    <tr>\n",
       "      <th>min</th>\n",
       "      <td>18.000000</td>\n",
       "    </tr>\n",
       "    <tr>\n",
       "      <th>25%</th>\n",
       "      <td>19.250000</td>\n",
       "    </tr>\n",
       "    <tr>\n",
       "      <th>50%</th>\n",
       "      <td>20.500000</td>\n",
       "    </tr>\n",
       "    <tr>\n",
       "      <th>75%</th>\n",
       "      <td>21.750000</td>\n",
       "    </tr>\n",
       "    <tr>\n",
       "      <th>max</th>\n",
       "      <td>23.000000</td>\n",
       "    </tr>\n",
       "  </tbody>\n",
       "</table>\n",
       "</div>"
      ],
      "text/plain": [
       "             age\n",
       "count  14.000000\n",
       "mean   20.571429\n",
       "std     1.554858\n",
       "min    18.000000\n",
       "25%    19.250000\n",
       "50%    20.500000\n",
       "75%    21.750000\n",
       "max    23.000000"
      ]
     },
     "execution_count": 14,
     "metadata": {},
     "output_type": "execute_result"
    }
   ],
   "source": [
    "import pandas as pd\n",
    "import numpy as np\n",
    "\n",
    "# Load the dataset\n",
    "dict_data = {\n",
    "    'name': ['Alice', 'Bob', 'Charlie', 'Diana', 'Emma', 'Frank', 'Grace', 'Henry', 'Ivy', 'Jack', 'Kate', 'Liam', 'Maya', 'Noah'],\n",
    "    'age': [20, 21, 19, 22, 23, 20, 21, 19, 22, 20, 18, 21, 19, 23],\n",
    "    'grade': ['A', 'B', 'A', 'C', 'B', 'A', 'C', 'B', 'A', 'C', 'B', 'A', 'C', 'B'],\n",
    "    'subject': ['Math', 'Physics', 'Math', 'Chemistry', 'Biology', 'Physics', 'Math', 'Chemistry', 'Biology', 'Physics', 'Math', 'Chemistry', 'Biology', 'Physics']\n",
    "}\n",
    "dict_data\n",
    "df = pd.DataFrame(dict_data)\n",
    "df.sample(n=5) # Display the first few rows of the DataFrame\n",
    "\n",
    "df.shape # Display the shape of the DataFrame\n",
    "df.info(verbose=True) # Display detailed information about the DataFrame\n",
    "df.describe() # Display summary statistics of the DataFrame"
   ]
  }
 ],
 "metadata": {
  "kernelspec": {
   "display_name": "Python 3",
   "language": "python",
   "name": "python3"
  },
  "language_info": {
   "codemirror_mode": {
    "name": "ipython",
    "version": 3
   },
   "file_extension": ".py",
   "mimetype": "text/x-python",
   "name": "python",
   "nbconvert_exporter": "python",
   "pygments_lexer": "ipython3",
   "version": "3.13.5"
  }
 },
 "nbformat": 4,
 "nbformat_minor": 5
}
